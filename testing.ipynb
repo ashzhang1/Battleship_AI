{
 "cells": [
  {
   "cell_type": "code",
   "execution_count": 89,
   "metadata": {},
   "outputs": [],
   "source": [
    "import random\n",
    "import numpy as np"
   ]
  },
  {
   "cell_type": "code",
   "execution_count": 90,
   "metadata": {},
   "outputs": [
    {
     "data": {
      "text/plain": [
       "True"
      ]
     },
     "execution_count": 90,
     "metadata": {},
     "output_type": "execute_result"
    }
   ],
   "source": [
    "np.any(np.ones(100), 0)"
   ]
  },
  {
   "cell_type": "code",
   "execution_count": null,
   "metadata": {},
   "outputs": [],
   "source": [
    "index = ((10,10)[0] - 1) * 10 + (10,10)[1] - 1\n",
    "index"
   ]
  },
  {
   "cell_type": "code",
   "execution_count": 2,
   "metadata": {},
   "outputs": [
    {
     "data": {
      "text/plain": [
       "100"
      ]
     },
     "execution_count": 2,
     "metadata": {},
     "output_type": "execute_result"
    }
   ],
   "source": [
    "len(np.arange(100))"
   ]
  },
  {
   "cell_type": "code",
   "execution_count": 7,
   "metadata": {},
   "outputs": [
    {
     "name": "stdout",
     "output_type": "stream",
     "text": [
      "[True, True, True, True, True, True, True, True, True, True, True, True, True, True, True, True, True, True, True, True, True, True, True, True, True, True, True, True, True, True, True, True, True, True, True, True, True, True, True, True, True, True, True, True, True, True, True, True, True, True, True, True, True, True, True, True, True, True, True, True, True, True, True, True, True, True, True, True, True, True, True, True, True, True, True, True, True, True, True, True, True, True, True, True, True, True, True, True, True, True, True, True, True, True, True, True, True, True, True, True]\n"
     ]
    }
   ],
   "source": [
    "l = [True] * 100\n",
    "print(l)"
   ]
  },
  {
   "cell_type": "code",
   "execution_count": 87,
   "metadata": {},
   "outputs": [],
   "source": [
    "def ShipLogic(round, yourMap, yourHp, enemyHp, p1ShotSeq, p1PrevHit, storage):\n",
    "    # x = random.randint(1,10)\n",
    "    # y = random.randint(1,10)\n",
    "    # return [x,y], storage\n",
    "    \n",
    "    if round > 1:\n",
    "        # remove all boards from allBoardStates that do not fit the shot seqeunce.\n",
    "        updateBoards(p1PrevHit, p1ShotSeq)\n",
    "    \n",
    "    print(\"Probability density map:\")\n",
    "    print(probabilityDensityMap)\n",
    "    print(\"All board states:\")\n",
    "    print(len(allBoardStates))\n",
    "    print(\"Move:\")\n",
    "    print(getMove(probabilityDensityMap))\n",
    "    \n",
    "    return getMove(probabilityDensityMap), storage \n",
    "\n",
    "\n",
    "def generateBoardStates():\n",
    "    # Implement an algorithm to generate all possible states\n",
    "    return np.array([np.ones(100), np.ones(100)*2, np.zeros(100)])\n",
    "\n",
    "\n",
    "def updateBoards(prevHit, shotSeq):\n",
    "    global allBoardStates, probabilityDensityMap\n",
    "    shot = shotSeq[-1]\n",
    "\n",
    "    # Convert shot position to 1D-array index\n",
    "    shotIndex = (shot[0] - 1) * 10 + shot[1] - 1\n",
    "    \n",
    "    boardValidity = [True] * len(allBoardStates)\n",
    "\n",
    "    # Update the list of valid placements\n",
    "    for i in range (len(allBoardStates)):\n",
    "        cell = allBoardStates[i][shotIndex]\n",
    "\n",
    "        # Check if the cell matches the previous hit\n",
    "        if(prevHit and cell != 1):\n",
    "            boardValidity[i] = False\n",
    "        elif(not prevHit and cell != 0):\n",
    "            boardValidity[i] = False\n",
    "\n",
    "        # Update the probability density map\n",
    "        if not boardValidity[i]:\n",
    "            probabilityDensityMap -= allBoardStates[i]\n",
    "    \n",
    "    allBoardStates = allBoardStates[boardValidity]\n",
    "\n",
    "# Generates probability density map\n",
    "def getProbabilities():\n",
    "    map = np.zeros(100)\n",
    "    for board in allBoardStates:\n",
    "        map += board\n",
    "    return map\n",
    "\n",
    "# Converts 1D-array index into Battleship game index\n",
    "def getMove(probabilityDensityMap):\n",
    "    index = np.argmax(probabilityDensityMap)\n",
    "    #Handle tie\n",
    "    x = int((index / 10)) + 1\n",
    "    y = index % 10 + 1\n",
    "    return [x, y]\n",
    "\n",
    "\n",
    "allBoardStates = generateBoardStates()\n",
    "probabilityDensityMap = getProbabilities()"
   ]
  },
  {
   "cell_type": "code",
   "execution_count": 88,
   "metadata": {},
   "outputs": [
    {
     "name": "stdout",
     "output_type": "stream",
     "text": [
      "Probability density map:\n",
      "[3. 3. 3. 3. 3. 3. 3. 3. 3. 3. 3. 3. 3. 3. 3. 3. 3. 3. 3. 3. 3. 3. 3. 3.\n",
      " 3. 3. 3. 3. 3. 3. 3. 3. 3. 3. 3. 3. 3. 3. 3. 3. 3. 3. 3. 3. 3. 3. 3. 3.\n",
      " 3. 3. 3. 3. 3. 3. 3. 3. 3. 3. 3. 3. 3. 3. 3. 3. 3. 3. 3. 3. 3. 3. 3. 3.\n",
      " 3. 3. 3. 3. 3. 3. 3. 3. 3. 3. 3. 3. 3. 3. 3. 3. 3. 3. 3. 3. 3. 3. 3. 3.\n",
      " 3. 3. 3. 3.]\n",
      "All board states:\n",
      "3\n",
      "Move:\n",
      "[1, 1]\n",
      "0\n",
      "0\n",
      "1\n",
      "1\n",
      "Probability density map:\n",
      "[0. 0. 0. 0. 0. 0. 0. 0. 0. 0. 0. 0. 0. 0. 0. 0. 0. 0. 0. 0. 0. 0. 0. 0.\n",
      " 0. 0. 0. 0. 0. 0. 0. 0. 0. 0. 0. 0. 0. 0. 0. 0. 0. 0. 0. 0. 0. 0. 0. 0.\n",
      " 0. 0. 0. 0. 0. 0. 0. 0. 0. 0. 0. 0. 0. 0. 0. 0. 0. 0. 0. 0. 0. 0. 0. 0.\n",
      " 0. 0. 0. 0. 0. 0. 0. 0. 0. 0. 0. 0. 0. 0. 0. 0. 0. 0. 0. 0. 0. 0. 0. 0.\n",
      " 0. 0. 0. 0.]\n",
      "All board states:\n",
      "1\n",
      "Move:\n",
      "[1, 1]\n"
     ]
    },
    {
     "data": {
      "text/plain": [
       "([1, 1], None)"
      ]
     },
     "execution_count": 88,
     "metadata": {},
     "output_type": "execute_result"
    }
   ],
   "source": [
    "ShipLogic(1, None, None, None, None, None, None)\n",
    "ShipLogic(2, None, None, None, [(1,1)], False, None)"
   ]
  },
  {
   "cell_type": "code",
   "execution_count": 19,
   "metadata": {},
   "outputs": [
    {
     "data": {
      "text/plain": [
       "array([1., 1., 1., 1., 1., 1., 1., 1., 1., 1.])"
      ]
     },
     "execution_count": 19,
     "metadata": {},
     "output_type": "execute_result"
    }
   ],
   "source": [
    "np.array(np.ones(10))"
   ]
  },
  {
   "cell_type": "code",
   "execution_count": null,
   "metadata": {},
   "outputs": [],
   "source": []
  }
 ],
 "metadata": {
  "kernelspec": {
   "display_name": "Python 3",
   "language": "python",
   "name": "python3"
  },
  "language_info": {
   "codemirror_mode": {
    "name": "ipython",
    "version": 3
   },
   "file_extension": ".py",
   "mimetype": "text/x-python",
   "name": "python",
   "nbconvert_exporter": "python",
   "pygments_lexer": "ipython3",
   "version": "3.10.6"
  },
  "orig_nbformat": 4
 },
 "nbformat": 4,
 "nbformat_minor": 2
}
