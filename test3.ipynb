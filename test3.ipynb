{
 "cells": [
  {
   "cell_type": "code",
   "execution_count": 1,
   "metadata": {},
   "outputs": [
    {
     "ename": "NameError",
     "evalue": "name 'np' is not defined",
     "output_type": "error",
     "traceback": [
      "\u001b[0;31m---------------------------------------------------------------------------\u001b[0m",
      "\u001b[0;31mNameError\u001b[0m                                 Traceback (most recent call last)",
      "Cell \u001b[0;32mIn[1], line 1\u001b[0m\n\u001b[0;32m----> 1\u001b[0m np\u001b[39m.\u001b[39many()\n",
      "\u001b[0;31mNameError\u001b[0m: name 'np' is not defined"
     ]
    }
   ],
   "source": [
    "np.any()"
   ]
  },
  {
   "cell_type": "code",
   "execution_count": 61,
   "metadata": {},
   "outputs": [
    {
     "name": "stdout",
     "output_type": "stream",
     "text": [
      "[[10. 15. 19. 21. 22. 22. 21. 19. 15. 10.]\n",
      " [15. 20. 24. 26. 27. 27. 26. 24. 20. 15.]\n",
      " [19. 24. 28. 30. 31. 31. 30. 28. 24. 19.]\n",
      " [21. 26. 30. 32. 33. 33. 32. 30. 26. 21.]\n",
      " [22. 27. 31. 33. 34. 34. 33. 31. 27. 22.]\n",
      " [22. 27. 31. 33. 34. 34. 33. 31. 27. 22.]\n",
      " [21. 26. 30. 32. 33. 33. 32. 30. 26. 21.]\n",
      " [19. 24. 28. 30. 31. 31. 30. 28. 24. 19.]\n",
      " [15. 20. 24. 26. 27. 27. 26. 24. 20. 15.]\n",
      " [10. 15. 19. 21. 22. 22. 21. 19. 15. 10.]]\n",
      "[[0. 0. 0. 0. 0. 0. 0. 0. 0. 0.]\n",
      " [0. 0. 0. 0. 0. 0. 0. 0. 0. 0.]\n",
      " [0. 0. 0. 0. 0. 0. 0. 0. 0. 0.]\n",
      " [0. 0. 0. 0. 0. 0. 0. 0. 0. 0.]\n",
      " [0. 0. 0. 0. 0. 0. 0. 0. 0. 0.]\n",
      " [0. 0. 0. 0. 0. 0. 0. 0. 0. 0.]\n",
      " [0. 0. 0. 0. 0. 0. 0. 0. 0. 0.]\n",
      " [0. 0. 0. 0. 0. 0. 0. 0. 0. 0.]\n",
      " [0. 0. 0. 0. 0. 0. 0. 0. 0. 0.]\n",
      " [0. 0. 0. 0. 0. 0. 0. 0. 0. 0.]]\n"
     ]
    }
   ],
   "source": [
    "import numpy as np\n",
    "\n",
    "def generateBoardStates(shipSize):\n",
    "    board_size = 10\n",
    "    ship_sizes = [shipSize]\n",
    "    board_states = []\n",
    "    \n",
    "    def is_valid_placement(board, size, x, y, direction):\n",
    "        if direction == 0:\n",
    "            return x + size <= board_size and np.all(board[y, x:x+size] == 0)\n",
    "        elif direction == 1:\n",
    "            return y + size <= board_size and np.all(board[y:y+size, x] == 0)\n",
    "        return False\n",
    "    \n",
    "    def place_ship(board, size, x, y, direction):\n",
    "        if direction == 0:\n",
    "            board[y, x:x+size] = 1\n",
    "        elif direction == 1:\n",
    "            board[y:y+size, x] = 1\n",
    "    \n",
    "    def remove_ship(board, size, x, y, direction):\n",
    "        if direction == 0:\n",
    "            board[y, x:x+size] = 0\n",
    "        elif direction == 1:\n",
    "            board[y:y+size, x] = 0\n",
    "    \n",
    "    def generate(board, remaining_ships):\n",
    "        if not remaining_ships:\n",
    "            board_states.append(np.ravel(board.copy()))\n",
    "            return\n",
    "        \n",
    "        ship_size = remaining_ships[0]\n",
    "        \n",
    "        for x in range(board_size):\n",
    "            for y in range(board_size):\n",
    "                for direction in [0, 1]:\n",
    "                    if is_valid_placement(board, ship_size, x, y, direction):\n",
    "                        place_ship(board, ship_size, x, y, direction)\n",
    "                        generate(board, remaining_ships[1:])\n",
    "                        remove_ship(board, ship_size, x, y, direction)\n",
    "    \n",
    "    empty_board = np.zeros((board_size, board_size), dtype=int)\n",
    "    generate(empty_board, ship_sizes)\n",
    "    \n",
    "    return np.array(board_states)\n",
    "\n",
    "# Example usage:\n",
    "board_states = np.empty((0, 100))\n",
    "\n",
    "three_board_states = generateBoardStates(3)\n",
    "two_board_states = generateBoardStates(2)\n",
    "five_board_states = generateBoardStates(5)\n",
    "four_board_states = generateBoardStates(4)\n",
    "\n",
    "board_states = np.concatenate((board_states, three_board_states), 0)\n",
    "board_states = np.concatenate((board_states, three_board_states), 0)\n",
    "board_states = np.concatenate((board_states, four_board_states), 0)\n",
    "board_states = np.concatenate((board_states, five_board_states), 0)\n",
    "board_states = np.concatenate((board_states, two_board_states), 0)\n",
    "\n",
    "probability = np.zeros(100)\n",
    "for state in board_states:\n",
    "    probability += state\n",
    "print(probability.reshape((10, 10)))\n",
    "\n",
    "\n",
    "validity = [True] * len(board_states)\n",
    "for i in range(len(board_states)):\n",
    "    shot = (5,5)\n",
    "    shotIndex = (shot[0] - 1) * 10 + shot[1] - 1\n",
    "    if board_states[i][shotIndex] != 1:\n",
    "        validity[i] = False\n",
    "\n",
    "for i in range(len(board_states)):\n",
    "    shot = (5,6)\n",
    "    shotIndex = (shot[0] - 1) * 10 + shot[1] - 1\n",
    "    if board_states[i][shotIndex] != 1:\n",
    "        validity[i] = False\n",
    "        \n",
    "for i in range(len(board_states)):\n",
    "    shot = (5,7)\n",
    "    shotIndex = (shot[0] - 1) * 10 + shot[1] - 1\n",
    "    if board_states[i][shotIndex] != 1:\n",
    "        validity[i] = False\n",
    "\n",
    "for i in range(len(board_states)):\n",
    "    shot = (5,8)\n",
    "    shotIndex = (shot[0] - 1) * 10 + shot[1] - 1\n",
    "    if board_states[i][shotIndex] != 1:\n",
    "        validity[i] = False\n",
    "\n",
    "for i in range(len(board_states)):\n",
    "    shot = (5,9)\n",
    "    shotIndex = (shot[0] - 1) * 10 + shot[1] - 1\n",
    "    if board_states[i][shotIndex] != 1:\n",
    "        validity[i] = False\n",
    "\n",
    "for i in range(len(board_states)):\n",
    "    shot = (5,10)\n",
    "    shotIndex = (shot[0] - 1) * 10 + shot[1] - 1\n",
    "    if board_states[i][shotIndex] != 1:\n",
    "        validity[i] = False\n",
    "\n",
    "board_states = board_states[validity]\n",
    "probability = np.zeros(100)\n",
    "for state in board_states:\n",
    "    probability += state\n",
    "probability[shotIndex] = 0\n",
    "print(probability.reshape((10, 10)))\n"
   ]
  },
  {
   "cell_type": "code",
   "execution_count": 4,
   "metadata": {},
   "outputs": [
    {
     "data": {
      "text/plain": [
       "False"
      ]
     },
     "execution_count": 4,
     "metadata": {},
     "output_type": "execute_result"
    }
   ],
   "source": [
    "import numpy as np\n",
    "np.all(np.ones(100) == 0)"
   ]
  },
  {
   "cell_type": "code",
   "execution_count": null,
   "metadata": {},
   "outputs": [],
   "source": []
  }
 ],
 "metadata": {
  "kernelspec": {
   "display_name": "Python 3",
   "language": "python",
   "name": "python3"
  },
  "language_info": {
   "codemirror_mode": {
    "name": "ipython",
    "version": 3
   },
   "file_extension": ".py",
   "mimetype": "text/x-python",
   "name": "python",
   "nbconvert_exporter": "python",
   "pygments_lexer": "ipython3",
   "version": "3.10.6"
  },
  "orig_nbformat": 4
 },
 "nbformat": 4,
 "nbformat_minor": 2
}
